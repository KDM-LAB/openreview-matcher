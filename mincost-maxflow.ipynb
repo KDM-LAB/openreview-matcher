{
 "cells": [
  {
   "cell_type": "code",
   "execution_count": 1,
   "metadata": {},
   "outputs": [
    {
     "name": "stdout",
     "output_type": "stream",
     "text": [
      "/Users/michaelspector/anaconda/envs/openreview/bin/python\r\n"
     ]
    }
   ],
   "source": [
    "!which python"
   ]
  },
  {
   "cell_type": "code",
   "execution_count": 2,
   "metadata": {},
   "outputs": [
    {
     "name": "stdout",
     "output_type": "stream",
     "text": [
      "Collecting ortools\n",
      "\u001b[?25l  Downloading https://files.pythonhosted.org/packages/08/93/f3f35a5023a9b54d945f67a97e92e1d365ffa629e3eae1751963be03cc9c/ortools-6.7.4973-cp36-cp36m-macosx_10_13_x86_64.whl (7.6MB)\n",
      "\u001b[K    100% |████████████████████████████████| 7.6MB 3.4MB/s ta 0:00:011\n",
      "\u001b[?25hCollecting protobuf>=3.5.1 (from ortools)\n",
      "\u001b[?25l  Downloading https://files.pythonhosted.org/packages/c7/27/133f225035b9539f2dcfebcdf9a69ff0152f56e0120160ec5c972ea7deb9/protobuf-3.6.1-cp36-cp36m-macosx_10_6_intel.macosx_10_9_intel.macosx_10_9_x86_64.macosx_10_10_intel.macosx_10_10_x86_64.whl (1.2MB)\n",
      "\u001b[K    100% |████████████████████████████████| 1.2MB 6.6MB/s ta 0:00:011\n",
      "\u001b[?25hRequirement already satisfied: six>=1.10 in /Users/michaelspector/anaconda/envs/openreview/lib/python3.6/site-packages (from ortools) (1.11.0)\n",
      "Requirement already satisfied: setuptools in /Users/michaelspector/anaconda/envs/openreview/lib/python3.6/site-packages (from protobuf>=3.5.1->ortools) (40.0.0)\n",
      "Installing collected packages: protobuf, ortools\n",
      "Successfully installed ortools-6.7.4973 protobuf-3.6.1\n"
     ]
    }
   ],
   "source": [
    "!pip install ortools"
   ]
  },
  {
   "cell_type": "code",
   "execution_count": 3,
   "metadata": {
    "collapsed": true
   },
   "outputs": [],
   "source": [
    "import ortools"
   ]
  },
  {
   "cell_type": "code",
   "execution_count": 5,
   "metadata": {
    "collapsed": true
   },
   "outputs": [],
   "source": [
    "# Define four parallel arrays: start_nodes, end_nodes, capacities, and unit costs\n",
    "# between each pair. For instance, the arc from node 0 to node 1 has a\n",
    "# capacity of 15 and a unit cost of 4.\n",
    "\n",
    "start_nodes = [0, 0, 1, 1, 1, 2, 2, 3, 4]\n",
    "end_nodes = [1, 2, 2, 3, 4, 3, 4, 4, 2]\n",
    "capacities = [15, 8, 20, 4, 10, 15, 4, 20, 5]\n",
    "unit_costs = [4, 4, 2, 2, 6, 1, 3, 2, 3]\n",
    "\n",
    "# Define an array of supplies at each node.\n",
    "\n",
    "supplies = [20, 0, 0, -5, -15]"
   ]
  },
  {
   "cell_type": "code",
   "execution_count": 8,
   "metadata": {},
   "outputs": [
    {
     "name": "stdout",
     "output_type": "stream",
     "text": [
      "0\n",
      "1\n",
      "2\n",
      "3\n",
      "4\n",
      "5\n",
      "6\n",
      "7\n",
      "8\n",
      "9\n"
     ]
    }
   ],
   "source": [
    "for i in range(10):\n",
    "    print(i)"
   ]
  },
  {
   "cell_type": "code",
   "execution_count": null,
   "metadata": {
    "collapsed": true
   },
   "outputs": [],
   "source": []
  }
 ],
 "metadata": {
  "kernelspec": {
   "display_name": "openreview",
   "language": "python",
   "name": "openreview"
  },
  "language_info": {
   "codemirror_mode": {
    "name": "ipython",
    "version": 3
   },
   "file_extension": ".py",
   "mimetype": "text/x-python",
   "name": "python",
   "nbconvert_exporter": "python",
   "pygments_lexer": "ipython3",
   "version": "3.6.6"
  }
 },
 "nbformat": 4,
 "nbformat_minor": 2
}
